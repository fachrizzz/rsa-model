{
  "cells": [
    {
      "cell_type": "markdown",
      "metadata": {
        "id": "glBvTujPCCOq"
      },
      "source": [
        "# Review Sentiment Analysis-Lite (RSA-Lite): Model Demo on Python\n",
        "Instruction on getting a prediction using RSA-Lite:\n",
        "\n",
        "1. Import required dependencies\n",
        "2. Load model using \"load_rsa\" function (keras H5 or saved model)\n",
        "3. Upload rsa_token\n",
        "4. Getting predictions using \"rsa_predict' function"
      ]
    },
    {
      "cell_type": "code",
      "execution_count": 43,
      "metadata": {
        "id": "NtaUG3hYM-bp",
        "colab": {
          "base_uri": "https://localhost:8080/"
        },
        "outputId": "71fad03a-1051-4b5e-c286-508f57f39a57"
      },
      "outputs": [
        {
          "output_type": "stream",
          "name": "stdout",
          "text": [
            "Success on importing required dependencies!\n"
          ]
        }
      ],
      "source": [
        "try:\n",
        "    from keras.models import load_model\n",
        "    from keras.preprocessing.text import Tokenizer\n",
        "    import tensorflow as tf\n",
        "    import sys\n",
        "    from zipfile import ZipFile\n",
        "    import os\n",
        "    import shutil\n",
        "except Exception:\n",
        "    raise Exception(f\"Error on importing required dependencies!\")\n",
        "finally:\n",
        "    print(\"Success on importing required dependencies!\")"
      ]
    },
    {
      "cell_type": "code",
      "execution_count": 46,
      "metadata": {
        "id": "QtXurCVrNNsd"
      },
      "outputs": [],
      "source": [
        "class rsa():\n",
        "    def unzip(path: str, del_src: bool):\n",
        "        zip_ref = ZipFile(path, 'r')\n",
        "        zip_ref.extractall(os.getcwd())\n",
        "        zip_ref.close()\n",
        "\n",
        "        if del_src:\n",
        "            os.remove(path)\n",
        "\n",
        "        print(f\"\\\"{path}\\\" has been extracted!\")\n",
        "\n",
        "    def load_rsa(path: str, m_type: str):\n",
        "        \"\"\"\n",
        "        Params\n",
        "        ------\n",
        "        path (str): model path\n",
        "        m_type (str): model m_type (m_type=\"h5\" or \"sm\")\n",
        "        \"\"\"\n",
        "\n",
        "        if m_type == \"h5\":\n",
        "            model = load_model(path)\n",
        "        elif m_type == \"sm\":\n",
        "            zip_ref = ZipFile(path, 'r')\n",
        "            zip_ref.extractall(os.getcwd())\n",
        "            zip_ref.close()\n",
        "            \n",
        "            parent_dir = \"./rsa_v1-lite\"\n",
        "            sm_path = parent_dir + \"/saved_model.pb\"\n",
        "\n",
        "            model_assets = [\"./assets\", \"./variables\", \"./saved_model.pb\"]\n",
        "            os.mkdir(parent_dir)\n",
        "\n",
        "            for asset in model_assets:\n",
        "                shutil.move(asset, parent_dir)\n",
        "\n",
        "            model = tf.saved_model.load(sm_path)\n",
        "\n",
        "        return model \n",
        "\n",
        "    def load_token(rsa_token_path: str):\n",
        "        import sys\n",
        "        sys.path.insert(1, rsa_token_path)\n",
        "\n",
        "        from rsa_token import rsa_token\n",
        "        from keras.preprocessing.text import Tokenizer\n",
        "\n",
        "        token = Tokenizer(rsa_token())\n",
        "\n",
        "        return token\n",
        "\n",
        "    def rsa_predict(model, review: list, rsa_token_path: str, display_array=True):\n",
        "        from keras.preprocessing.sequence import pad_sequences\n",
        "        from keras.preprocessing.text import Tokenizer\n",
        "\n",
        "        tokenizer = rsa.load_token(rsa_token_path)\n",
        "        text_seq = tokenizer.texts_to_sequences(review)\n",
        "        padded_text = pad_sequences(text_seq, padding=\"post\", maxlen=102)\n",
        "        \n",
        "        raw_pred = model.predict(padded_text)\n",
        "\n",
        "        if raw_pred[-1][0] > raw_pred[-1][1]:\n",
        "            txt_class = \"Negative\"\n",
        "        elif raw_pred[-1][1] > raw_pred[-1][0]:\n",
        "            txt_class = \"Positive\"\n",
        "        else:\n",
        "            raise Exception(f\"RSA-Lite was unable to classify the given text. Received array:\\n{raw_pred}\")\n",
        "\n",
        "        print(f\"Original Text: \\n{review}\")\n",
        "\n",
        "        if display_array:\n",
        "            print(f\"Class: {txt_class}\\n{raw_pred}\")\n",
        "        else:\n",
        "            print(f\"Class: {txt_class}\")"
      ]
    },
    {
      "cell_type": "markdown",
      "source": [
        "#### Keras H5 Model"
      ],
      "metadata": {
        "id": "ITiv2FmWWouJ"
      }
    },
    {
      "cell_type": "code",
      "source": [
        "model = rsa.load_rsa(\"./rsa_v1-lite.h5\", m_type=\"h5\")"
      ],
      "metadata": {
        "id": "iaTUcqnwWvzk"
      },
      "execution_count": 44,
      "outputs": []
    },
    {
      "cell_type": "markdown",
      "source": [
        "### Saved Model"
      ],
      "metadata": {
        "id": "yDTVNBKVWz4m"
      }
    },
    {
      "cell_type": "code",
      "source": [
        "model = rsa.load_rsa(\"./rsa_v1-lite.zip\", m_type=\"sm\")"
      ],
      "metadata": {
        "id": "uJEMG7a_W3G0"
      },
      "execution_count": null,
      "outputs": []
    },
    {
      "cell_type": "code",
      "execution_count": 47,
      "metadata": {
        "id": "m8Os3OF6Nwnf",
        "colab": {
          "base_uri": "https://localhost:8080/"
        },
        "outputId": "9fdf3fb5-18af-480f-ce17-c9fa59061d58"
      },
      "outputs": [
        {
          "output_type": "stream",
          "name": "stdout",
          "text": [
            "Original Text: \n",
            "This book is different than the generic self help books that we have all read. David didn't just regurgitate what everyone else said about self improvement. He invented his own methods through trial and error. He is also not afraid to tap into something that our society has just about eliminated, negative reinforcement. My self-improvement journey was always hindered by too much positive reinforcement throughout my life. There is a place for this, but sometimes you just have to look in the mirror and call yourself out with brutal honesty, David literally does this daily.\n",
            "Class: Positive\n",
            "[[0.4058246  0.5941754 ]\n",
            " [0.4058246  0.5941754 ]\n",
            " [0.4058246  0.5941754 ]\n",
            " ...\n",
            " [0.40582478 0.5941752 ]\n",
            " [0.40582478 0.5941752 ]\n",
            " [0.4058246  0.5941754 ]]\n"
          ]
        }
      ],
      "source": [
        "review = \"This book is different than the generic self help books that we have all read. David didn't just regurgitate what everyone else said about self improvement. He invented his own methods through trial and error. He is also not afraid to tap into something that our society has just about eliminated, negative reinforcement. My self-improvement journey was always hindered by too much positive reinforcement throughout my life. There is a place for this, but sometimes you just have to look in the mirror and call yourself out with brutal honesty, David literally does this daily.\"\n",
        "rsa.rsa_predict(model, review=review, rsa_token_path=\"/content/rsa_token.py\", display_array=True)"
      ]
    }
  ],
  "metadata": {
    "colab": {
      "collapsed_sections": [],
      "name": "RSA-Lite Demo.ipynb",
      "provenance": []
    },
    "kernelspec": {
      "display_name": "Python 3",
      "name": "python3"
    },
    "language_info": {
      "name": "python"
    }
  },
  "nbformat": 4,
  "nbformat_minor": 0
}